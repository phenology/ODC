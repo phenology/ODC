{
  "cells": [
    {
      "cell_type": "markdown",
      "source": [
        "# Draft: Use of CGC w/ open data cube\n",
        "\n",
        "This note book contains draft code to connect to an existing ODC instance, retrieve data, and luster it using CGC"
      ],
      "metadata": {
        "nteract": {
          "transient": {
            "deleting": false
          }
        }
      }
    },
    {
      "cell_type": "markdown",
      "source": [
        "Import path and add full local directory tree"
      ],
      "metadata": {
        "nteract": {
          "transient": {
            "deleting": false
          }
        }
      }
    },
    {
      "cell_type": "code",
      "source": [
        "from sys import path\n",
        "path.append(\"../\")"
      ],
      "outputs": [],
      "execution_count": null,
      "metadata": {
        "collapsed": true,
        "jupyter": {
          "source_hidden": false,
          "outputs_hidden": false
        },
        "nteract": {
          "transient": {
            "deleting": false
          }
        },
        "execution": {
          "iopub.status.busy": "2021-06-29T21:56:31.283Z",
          "iopub.execute_input": "2021-06-29T21:56:31.287Z"
        }
      }
    },
    {
      "cell_type": "markdown",
      "source": [
        "## Loading data\n",
        "\n",
        "### Specify ROI\n",
        "Specify the ROI in terms of (rectagula) lat,lon bounds"
      ],
      "metadata": {
        "nteract": {
          "transient": {
            "deleting": false
          }
        }
      }
    },
    {
      "cell_type": "code",
      "source": [
        "lon = (lon1, lon2)\n",
        "lat = lat1, lat2\n"
      ],
      "outputs": [],
      "execution_count": null,
      "metadata": {
        "collapsed": true,
        "jupyter": {
          "source_hidden": false,
          "outputs_hidden": false
        },
        "nteract": {
          "transient": {
            "deleting": false
          }
        }
      }
    },
    {
      "cell_type": "markdown",
      "source": [
        "### Pass ROI settings to display\n"
      ],
      "metadata": {
        "nteract": {
          "transient": {
            "deleting": false
          }
        }
      }
    },
    {
      "cell_type": "code",
      "source": [
        "from utils.data_cube_utilities.dc_display_map import display_map\n",
        "display_map(latitude = lat, longitude = lon)"
      ],
      "outputs": [],
      "execution_count": null,
      "metadata": {
        "collapsed": true,
        "jupyter": {
          "source_hidden": false,
          "outputs_hidden": false
        },
        "nteract": {
          "transient": {
            "deleting": false
          }
        },
        "execution": {
          "iopub.status.busy": "2021-06-29T22:09:51.097Z",
          "iopub.execute_input": "2021-06-29T22:09:51.101Z"
        }
      }
    },
    {
      "cell_type": "markdown",
      "source": [
        "### data selection\n",
        "Specify platform (i.e. observatory/data source) product type and define data selection\n",
        "\n",
        "specification of measurments is opttional"
      ],
      "metadata": {
        "nteract": {
          "transient": {
            "deleting": false
          }
        }
      }
    },
    {
      "cell_type": "code",
      "source": [
        "platform        = 'plaatform' # e.g. LANDAT_7\n",
        "product_type    = 'dataprod' # e.g. ls7_ledaps_togo\n",
        "\n",
        "from datetime import datetime \n",
        "\n",
        "params = dict(platform=platform,\n",
        "              product=product_type,\n",
        "              time=(datetime(2007,1,1), datetime(2007,12,31)) ,\n",
        "              lon= lon,\n",
        "              lat= lat,\n",
        "              measurements = ['mes1', 'mes2', 'mes3'] )\n",
        "\n"
      ],
      "outputs": [],
      "execution_count": null,
      "metadata": {
        "collapsed": true,
        "jupyter": {
          "source_hidden": false,
          "outputs_hidden": false
        },
        "nteract": {
          "transient": {
            "deleting": false
          }
        }
      }
    },
    {
      "cell_type": "markdown",
      "source": [
        "### Create data cube object\n",
        "In essence this means connectiing o an existing data cube. One should specify a name for he instance (app). The config file determines, a.o., which datacube one connects to."
      ],
      "metadata": {
        "nteract": {
          "transient": {
            "deleting": false
          }
        }
      }
    },
    {
      "cell_type": "code",
      "source": [
        "import datacube\n",
        "dc = datacube.Datacube(app= \"some_app_name\", config='/home/localuser/.datacube.conf')"
      ],
      "outputs": [],
      "execution_count": null,
      "metadata": {
        "collapsed": true,
        "jupyter": {
          "source_hidden": false,
          "outputs_hidden": false
        },
        "nteract": {
          "transient": {
            "deleting": false
          }
        }
      }
    },
    {
      "cell_type": "markdown",
      "source": [
        "### Load data\n",
        "Here data is loaded using the parameters specified above. It is also, of course, possible to define these explicitly in the load statement.\n",
        "\n",
        "`data` is an `xarray` `Dataset` object and should have the coordinates `time`, `latitude`, and `longitude`. All specifie measurements should be present as variables, with commensurate dimensionality of the `xarray.Dataset` object\n"
      ],
      "metadata": {
        "nteract": {
          "transient": {
            "deleting": false
          }
        }
      }
    },
    {
      "cell_type": "markdown",
      "source": [
        "data = dc.load(**params)"
      ],
      "metadata": {
        "nteract": {
          "transient": {
            "deleting": false
          }
        }
      }
    },
    {
      "cell_type": "markdown",
      "source": [
        "## NB\n",
        "The above is applicable to a situation in which extent, and desired data/measurements are known. If this is not the case, and availble data needs to be explored the procedure below enables a more interactive exploratory loading "
      ],
      "metadata": {
        "nteract": {
          "transient": {
            "deleting": false
          }
        }
      }
    },
    {
      "cell_type": "markdown",
      "source": [
        "### Browse available products in data cube"
      ],
      "metadata": {
        "nteract": {
          "transient": {
            "deleting": false
          }
        }
      }
    },
    {
      "cell_type": "code",
      "source": [
        "list_of_products = dc.list_of_products()\n",
        "\n",
        "\n"
      ],
      "outputs": [],
      "execution_count": null,
      "metadata": {
        "collapsed": true,
        "jupyter": {
          "source_hidden": false,
          "outputs_hidden": false
        },
        "nteract": {
          "transient": {
            "deleting": false
          }
        },
        "execution": {
          "iopub.status.busy": "2021-06-30T06:50:27.071Z",
          "iopub.execute_input": "2021-06-30T06:50:27.077Z"
        }
      }
    },
    {
      "cell_type": "markdown",
      "source": [
        "Use data acces API to get extents for a chosen product (chosen, e.g. from list of products)"
      ],
      "metadata": {
        "nteract": {
          "transient": {
            "deleting": false
          }
        }
      }
    },
    {
      "cell_type": "code",
      "source": [
        "import utils.data_cube_utilities.data_access_api as dc_api  \n",
        "api = dc_api.DataAccessApi(config = '/home/localuser/.datacube.conf')\n",
        "\n",
        "platform = \"PLATFORM\"\n",
        "product = \"PRODUCT\"\n",
        "\n",
        "coordinates = api.get_full_dataset_extent(platform = platform, product = product)\n",
        "\n",
        "latitude_extents = (min(coordinates['latitude'].values),max(coordinates['latitude'].values))\n",
        "print( latitude_extents )\n",
        "\n",
        "longitude_extents = (min(coordinates['longitude'].values),max(coordinates['longitude'].values))\n",
        "print( longitude_extents )\n",
        "\n",
        "time_extents = (min(coordinates['time'].values),max(coordinates['time'].values))\n",
        "print( time_extents )\n",
        "\n"
      ],
      "outputs": [],
      "execution_count": null,
      "metadata": {
        "collapsed": true,
        "jupyter": {
          "source_hidden": false,
          "outputs_hidden": false
        },
        "nteract": {
          "transient": {
            "deleting": false
          }
        }
      }
    },
    {
      "cell_type": "markdown",
      "source": [
        "#### Pick coordinate extents and measurements to load and then use `dc.load` as above"
      ],
      "metadata": {
        "nteract": {
          "transient": {
            "deleting": false
          }
        }
      }
    },
    {
      "cell_type": "markdown",
      "source": [
        "# Interface with CGC\n",
        "\n",
        "`CGC` requires the reshaping of the data from 3 to 2 dimensions collpasing the spatial coordinates. Here we suggest using the \n",
        "`xarray.Dataset.to_stacked_array()` method along the lines of\n",
        "\n",
        "`data.to_stacked_array('spatialstack',\"time\",variable_dim='latlon')`"
      ],
      "metadata": {
        "nteract": {
          "transient": {
            "deleting": false
          }
        }
      }
    },
    {
      "cell_type": "markdown",
      "source": [],
      "metadata": {
        "nteract": {
          "transient": {
            "deleting": false
          }
        }
      }
    }
  ],
  "metadata": {
    "kernel_info": {
      "name": "node_nteract"
    },
    "language_info": {
      "name": "javascript",
      "version": "12.8.1",
      "mimetype": "application/javascript",
      "file_extension": ".js"
    },
    "kernelspec": {
      "argv": [
        "/Applications/nteract.app/Contents/MacOS/nteract",
        "/Applications/nteract.app/Contents/Resources/app.asar/node_modules/ijavascript/lib/kernel.js",
        "{connection_file}",
        "--protocol=5.0",
        "--hide-undefined"
      ],
      "display_name": "Node.js (nteract)",
      "env": {
        "ELECTRON_RUN_AS_NODE": "1",
        "NODE_PATH": "/Applications/nteract.app/Contents/Resources/app.asar/node_modules"
      },
      "language": "javascript",
      "name": "node_nteract"
    },
    "nteract": {
      "version": "0.27.0"
    }
  },
  "nbformat": 4,
  "nbformat_minor": 0
}